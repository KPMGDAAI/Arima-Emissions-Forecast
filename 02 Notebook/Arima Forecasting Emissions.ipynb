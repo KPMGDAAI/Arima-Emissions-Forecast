{
 "cells": [
  {
   "cell_type": "markdown",
   "metadata": {
    "application/vnd.databricks.v1+cell": {
     "cellMetadata": {},
     "inputWidgets": {},
     "nuid": "bb2e12b4-8a6d-4e52-b718-4d25f2bd6c45",
     "showTitle": false,
     "title": ""
    },
    "id": "a534ff09"
   },
   "source": [
    "# Hi, I’m Ali – Your Learning Guide to Emissions Forecasting Using ARIMA!\n",
    "\n",
    "![image](https://i.pinimg.com/736x/4f/a0/50/4fa0500d3365e5386a56ebb64fb7d799.jpg)\n"
   ]
  },
  {
   "cell_type": "markdown",
   "metadata": {
    "application/vnd.databricks.v1+cell": {
     "cellMetadata": {},
     "inputWidgets": {},
     "nuid": "6a33837d-3f69-4a6e-956b-66dd5a22b5a1",
     "showTitle": false,
     "title": ""
    },
    "id": "db644174"
   },
   "source": [
    "### 1. Introduction: What’s This All About?\n",
    "\n"
   ]
  },
  {
   "cell_type": "markdown",
   "metadata": {
    "application/vnd.databricks.v1+cell": {
     "cellMetadata": {},
     "inputWidgets": {},
     "nuid": "311a45f3-4f04-4831-adb8-b04a2100963e",
     "showTitle": false,
     "title": ""
    },
    "id": "80b07c10"
   },
   "source": [
    "Hey there! I’m Ali, and today we’re going on an exciting journey into the world of emissions forecasting using ARIMA. Together, we’ll forecast emissions for each source (like flaring, venting, and power generation), and then we’ll bring it all together for the big picture: total emissions."
   ]
  },
  {
   "cell_type": "markdown",
   "metadata": {
    "application/vnd.databricks.v1+cell": {
     "cellMetadata": {},
     "inputWidgets": {},
     "nuid": "ba59cec5-d6b1-4326-ae3c-a19d31da8129",
     "showTitle": false,
     "title": ""
    },
    "id": "6f96a08a"
   },
   "source": [
    "### 2. Loading Our Data: Getting Started!"
   ]
  },
  {
   "cell_type": "code",
   "execution_count": 0,
   "metadata": {
    "application/vnd.databricks.v1+cell": {
     "cellMetadata": {
      "byteLimit": 2048000,
      "rowLimit": 10000
     },
     "inputWidgets": {},
     "nuid": "ecf2c0b6-722b-4656-b749-6b05ec4c7bf2",
     "showTitle": false,
     "title": ""
    },
    "id": "ca6e66ac"
   },
   "outputs": [],
   "source": [
    "import pandas as pd\n",
    "df = pd.read_csv('/Workspace/Users/kpmgdaai@outlook.com/Arima Emissions Forecast/01 Data/Emissions_Data.csv', parse_dates=['Date'], index_col='Date')\n",
    "df.head()\n",
    "\n",
    "import warnings\n",
    "warnings.filterwarnings(\"ignore\")  # This line is used to suppress warning messages, keeping the output clean and focused on the results."
   ]
  },
  {
   "cell_type": "markdown",
   "metadata": {
    "application/vnd.databricks.v1+cell": {
     "cellMetadata": {},
     "inputWidgets": {},
     "nuid": "3b03a164-9759-445c-af5d-4dc1d7325fd4",
     "showTitle": false,
     "title": ""
    },
    "id": "17865600"
   },
   "source": [
    "### 3. Understanding ARIMA: What Are We Doing?\n",
    "\n",
    "![](https://i.pinimg.com/736x/08/79/a0/0879a0f45d235e234240630e30404c1b.jpg)"
   ]
  },
  {
   "cell_type": "markdown",
   "metadata": {
    "application/vnd.databricks.v1+cell": {
     "cellMetadata": {},
     "inputWidgets": {},
     "nuid": "45a3ff30-dd81-4124-8f4a-a2f977485e39",
     "showTitle": false,
     "title": ""
    },
    "id": "d34cbeee"
   },
   "source": [
    "So, what is **ARIMA**? In simple terms, ARIMA stands for **AutoRegressive Integrated Moving Average**. It's a fancy way of saying that we’re using patterns from the past to predict the future. ADNOC can use this to forecast emissions for each source, so they can plan better and reduce environmental impact."
   ]
  },
  {
   "cell_type": "markdown",
   "metadata": {
    "application/vnd.databricks.v1+cell": {
     "cellMetadata": {},
     "inputWidgets": {},
     "nuid": "1b967ed6-89ee-40f4-8d1b-c89c191495f4",
     "showTitle": false,
     "title": ""
    },
    "id": "48dd43b8"
   },
   "source": [
    "### 4. Setting Up the Models: Let’s Dive Into ARIMA for Each Source\n",
    "\n",
    "Now that we understand how ARIMA works, it’s time to start applying it. We’re going to build an ARIMA model for each feature in our dataset, but here’s where it gets fun!\n",
    "\n",
    "\n",
    "We’ll create subplots to compare the actual emissions against the forecasted emissions for each feature. This is a great way to visualize how each emission source behaves over time, and what’s likely to happen in the future. This will give us an overview of all the emission sources in one glance, making it easier to see where the big emissions are coming from."
   ]
  },
  {
   "cell_type": "code",
   "execution_count": 0,
   "metadata": {
    "application/vnd.databricks.v1+cell": {
     "cellMetadata": {
      "byteLimit": 2048000,
      "rowLimit": 10000
     },
     "inputWidgets": {},
     "nuid": "83ddd1dd-870d-478f-ac38-c2e492394c30",
     "showTitle": false,
     "title": ""
    },
    "colab": {
     "base_uri": "https://localhost:8080/",
     "height": 1000
    },
    "id": "3028cdd7",
    "outputId": "0f18e68e-13bd-4cd0-d5b4-e4ee9c5c93b1"
   },
   "outputs": [],
   "source": [
    "\n",
    "import matplotlib.pyplot as plt\n",
    "from statsmodels.tsa.arima.model import ARIMA\n",
    "import warnings\n",
    "from statsmodels.tools.sm_exceptions import ValueWarning\n",
    "\n",
    "# Suppress the specific warning\n",
    "warnings.filterwarnings(\"ignore\", category=ValueWarning, message=\"No frequency information was provided, so inferred frequency.*\")\n",
    "\n",
    "# Function to fit ARIMA and forecast\n",
    "def fit_and_forecast(df, feature, steps=6):\n",
    "    model = ARIMA(df[feature], order=(1,1,1))\n",
    "    model_fit = model.fit()\n",
    "    forecast = model_fit.forecast(steps=steps)\n",
    "    return model_fit, forecast\n",
    "\n",
    "# List of features (excluding 'Total Emissions')\n",
    "features = df.columns\n",
    "\n",
    "# Create subplots for all features\n",
    "fig, axes = plt.subplots(len(features), 1, figsize=(12, 15), sharex=True)\n",
    "\n",
    "for i, feature in enumerate(features):\n",
    "    model_fit, forecast = fit_and_forecast(df, feature)\n",
    "\n",
    "    # Plot the actual vs forecasted data\n",
    "    axes[i].plot(df[feature], label='Observed', color='blue')\n",
    "    axes[i].plot(forecast.index, forecast, label='Forecast', color='red')\n",
    "    axes[i].set_title(f'Forecast for {feature}')\n",
    "    axes[i].legend()\n",
    "\n",
    "plt.tight_layout()\n",
    "plt.show()\n"
   ]
  },
  {
   "cell_type": "markdown",
   "metadata": {
    "application/vnd.databricks.v1+cell": {
     "cellMetadata": {},
     "inputWidgets": {},
     "nuid": "56befa2f-ffe2-4866-a235-ec7b95d71934",
     "showTitle": false,
     "title": ""
    },
    "id": "498e2047"
   },
   "source": [
    "### 5. The Grand Finale: Forecasting Total Emissions!\n",
    "\n",
    "![](https://i.pinimg.com/736x/ce/34/ec/ce34ec30327e3c361dce44bd9030f97f.jpg)"
   ]
  },
  {
   "cell_type": "code",
   "execution_count": 0,
   "metadata": {
    "application/vnd.databricks.v1+cell": {
     "cellMetadata": {
      "byteLimit": 2048000,
      "rowLimit": 10000
     },
     "inputWidgets": {},
     "nuid": "1612d730-a0d4-408b-9215-4112d42b57ce",
     "showTitle": false,
     "title": ""
    },
    "colab": {
     "base_uri": "https://localhost:8080/",
     "height": 654
    },
    "id": "8b6af130",
    "outputId": "bbe6d4d4-3d2c-4492-d665-b7bc3e0937a6"
   },
   "outputs": [],
   "source": [
    "# Assuming a safe emission limit of 20,000 tonnes\n",
    "safe_emission_limit = 150000\n",
    "\n",
    "# Total Emissions Forecast (larger plot)\n",
    "df['Total Emissions'] = df.sum(axis=1)\n",
    "model_total, forecast_total = fit_and_forecast(df, 'Total Emissions')\n",
    "\n",
    "# Plot the total emissions with a larger plot\n",
    "plt.figure(figsize=(12, 6))\n",
    "\n",
    "# Plot observed total emissions\n",
    "plt.plot(df['Total Emissions'], label='Observed Total Emissions', color='blue')\n",
    "\n",
    "# Plot forecasted total emissions\n",
    "plt.plot(forecast_total.index, forecast_total, label='Forecasted Total Emissions', color='red')\n",
    "\n",
    "# Add a horizontal dotted line for the safe emission limit\n",
    "plt.axhline(y=safe_emission_limit, color='green', linestyle='--', label='Safe Emission Limit (20,000 tonnes)')\n",
    "\n",
    "# Set y-axis limits to make the plot less fluctuated (adjust as needed)\n",
    "plt.ylim([0, 200000])\n",
    "\n",
    "# Add labels, title, and grid\n",
    "plt.title('Total Emissions Forecast')\n",
    "plt.legend()\n",
    "plt.grid(True)\n",
    "\n",
    "# Show the plot\n",
    "plt.show()\n",
    "\n"
   ]
  },
  {
   "cell_type": "markdown",
   "metadata": {
    "application/vnd.databricks.v1+cell": {
     "cellMetadata": {},
     "inputWidgets": {},
     "nuid": "cce71087-75f1-4dd7-83bd-b210c58d94cf",
     "showTitle": false,
     "title": ""
    },
    "id": "31edd879"
   },
   "source": [
    "### 6. What Have We Learned? The Business Impact\n",
    "\n",
    "![](https://i.pinimg.com/736x/29/15/04/291504802bfd2fbea0abd213daa4370f.jpg)\n",
    "\n",
    "***Here are the key takeaways:***\n",
    "\n",
    "**Data-driven decisions:**\n",
    "By forecasting emissions for each feature, ADNOC can decide where to focus their efforts for maximum environmental and operational impact.\n",
    "\n",
    "**Regulatory compliance:**\n",
    "Knowing the expected emissions means ADNOC can stay ahead of regulations and prevent any over-limit emissions.\n",
    "\n",
    "**Proactive planning:**\n",
    "Forecasting emissions lets ADNOC plan for upcoming spikes, whether from emergency flaring or seasonal variations in gas processing."
   ]
  },
  {
   "cell_type": "markdown",
   "metadata": {
    "application/vnd.databricks.v1+cell": {
     "cellMetadata": {},
     "inputWidgets": {},
     "nuid": "5b0c7174-a907-42f7-a5be-b8b5949cbe2a",
     "showTitle": false,
     "title": ""
    },
    "id": "b9f58e95"
   },
   "source": [
    "# Congratulations!   \n",
    "You’ve just completed a full emissions forecasting exercise using ARIMA. By now, you’ve seen how powerful time series forecasting can be for predicting future emissions from different sources on an oil rig.\n",
    "\n",
    "\n",
    "This isn’t just about predicting numbers. It’s about using data to drive smarter business decisions. With emissions forecasting, ADNOC can lead the way toward more sustainable and efficient oil and gas operations."
   ]
  },
  {
   "cell_type": "code",
   "execution_count": 0,
   "metadata": {
    "application/vnd.databricks.v1+cell": {
     "cellMetadata": {},
     "inputWidgets": {},
     "nuid": "3d240216-3f12-409d-bbc8-072ae3e7062e",
     "showTitle": false,
     "title": ""
    }
   },
   "outputs": [],
   "source": []
  }
 ],
 "metadata": {
  "application/vnd.databricks.v1+notebook": {
   "dashboards": [],
   "environmentMetadata": {
    "base_environment": "",
    "client": "1"
   },
   "language": "python",
   "notebookMetadata": {
    "pythonIndentUnit": 4
   },
   "notebookName": "Arima Forecasting Emissions",
   "widgets": {}
  },
  "colab": {
   "provenance": []
  },
  "kernelspec": {
   "display_name": "Python 3",
   "name": "python3"
  },
  "language_info": {
   "name": "python"
  }
 },
 "nbformat": 4,
 "nbformat_minor": 0
}
